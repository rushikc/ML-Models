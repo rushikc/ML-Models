{
 "cells": [
  {
   "cell_type": "code",
   "execution_count": 1,
   "metadata": {},
   "outputs": [
    {
     "name": "stdout",
     "output_type": "stream",
     "text": [
      "                            OLS Regression Results                            \n",
      "==============================================================================\n",
      "Dep. Variable:                   PM10   R-squared:                       0.769\n",
      "Model:                            OLS   Adj. R-squared:                  0.743\n",
      "Method:                 Least Squares   F-statistic:                     29.96\n",
      "Date:                Sat, 08 Dec 2018   Prob (F-statistic):           9.69e-09\n",
      "Time:                        11:25:07   Log-Likelihood:                -170.73\n",
      "No. Observations:                  31   AIC:                             349.5\n",
      "Df Residuals:                      27   BIC:                             355.2\n",
      "Df Model:                           3                                         \n",
      "Covariance Type:            nonrobust                                         \n",
      "==============================================================================\n",
      "                 coef    std err          t      P>|t|      [0.025      0.975]\n",
      "------------------------------------------------------------------------------\n",
      "const         -9.2848     61.089     -0.152      0.880    -134.629     116.059\n",
      "SO2            8.4066      2.638      3.187      0.004       2.995      13.819\n",
      "NOX            0.7231      0.664      1.089      0.286      -0.639       2.085\n",
      "BENZENE       25.4305     10.279      2.474      0.020       4.340      46.521\n",
      "==============================================================================\n",
      "Omnibus:                        6.365   Durbin-Watson:                   2.119\n",
      "Prob(Omnibus):                  0.041   Jarque-Bera (JB):                4.642\n",
      "Skew:                           0.819   Prob(JB):                       0.0982\n",
      "Kurtosis:                       3.954   Cond. No.                         418.\n",
      "==============================================================================\n",
      "\n",
      "Warnings:\n",
      "[1] Standard Errors assume that the covariance matrix of the errors is correctly specified.\n"
     ]
    }
   ],
   "source": [
    "import xlrd\n",
    "import xlwt\n",
    "import numpy as np\n",
    "import matplotlib.pyplot as plt\n",
    "# %matplotlib inline\n",
    "import neurolab as nl\n",
    "import pandas as pd\n",
    "import seaborn as sns\n",
    "import os\n",
    "from sklearn.linear_model import LinearRegression\n",
    "from sklearn.metrics import r2_score\n",
    "import time\n",
    "\n",
    "data = pd.read_excel('data1.xlsx')\n",
    "\n",
    "names = data.columns\n",
    "\n",
    "\n",
    "\n",
    "data.drop_duplicates(inplace=True)  # removing duplicates\n",
    "\n",
    "data.dropna()\n",
    "\n",
    "\n",
    "limit = {}\n",
    "\n",
    "\n",
    "def IQR_outlier(dt, name):\n",
    "    q1 = dt.quantile(.25)\n",
    "    q3 = dt.quantile(.75)\n",
    "    iqr = q3 - q1\n",
    "    l_limit = q1 - 1.5 * iqr\n",
    "    r_limit = q3 + 1.5 * iqr\n",
    "    l_limit = round(l_limit, 2)\n",
    "    r_limit = round(r_limit, 2)\n",
    "    limit[name] = [l_limit, r_limit]\n",
    "\n",
    "\n",
    "def removal_outlier(st, name):\n",
    "    st = st[st < limit[name][1]]\n",
    "    st = st[st > limit[name][0]]\n",
    "    return st\n",
    "\n",
    "import statsmodels.api as sm\n",
    "X = data[['SO2','NOX','BENZENE']]\n",
    "y = data['PM10']\n",
    "X = sm.add_constant(X)\n",
    "model11 = sm.OLS(y, X).fit()\n",
    "print(model11.summary())\n"
   ]
  },
  {
   "cell_type": "code",
   "execution_count": null,
   "metadata": {},
   "outputs": [],
   "source": []
  }
 ],
 "metadata": {
  "kernelspec": {
   "display_name": "Python 3",
   "language": "python",
   "name": "python3"
  },
  "language_info": {
   "codemirror_mode": {
    "name": "ipython",
    "version": 3
   },
   "file_extension": ".py",
   "mimetype": "text/x-python",
   "name": "python",
   "nbconvert_exporter": "python",
   "pygments_lexer": "ipython3",
   "version": "3.6.5"
  }
 },
 "nbformat": 4,
 "nbformat_minor": 2
}

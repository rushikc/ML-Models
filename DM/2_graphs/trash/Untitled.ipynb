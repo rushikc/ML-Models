{
 "cells": [
  {
   "cell_type": "code",
   "execution_count": 2,
   "metadata": {},
   "outputs": [],
   "source": [
    "import numpy as np\n",
    "import matplotlib.pyplot as plt\n",
    "import neurolab as nl\n",
    "# %matplotlib inline\n",
    "import pandas as pd\n",
    "import seaborn as sns\n",
    "import os\n",
    "from sklearn.linear_model import LinearRegression\n",
    "from sklearn.metrics import r2_score\n",
    "import time\n",
    "\n",
    "data = pd.read_excel('data.xlsx')\n",
    "\n",
    "del data['FROM DATE']\n",
    "del data['TO DATE']\n",
    "\n",
    "names = data.columns\n",
    "\n",
    "data.drop_duplicates(inplace=True)  # removing duplicates\n",
    "data = data.dropna()"
   ]
  },
  {
   "cell_type": "code",
   "execution_count": 12,
   "metadata": {},
   "outputs": [],
   "source": [
    "num_d = data.values\n"
   ]
  },
  {
   "cell_type": "code",
   "execution_count": null,
   "metadata": {},
   "outputs": [],
   "source": []
  },
  {
   "cell_type": "code",
   "execution_count": 70,
   "metadata": {},
   "outputs": [],
   "source": [
    "# feature = num_d[:,:2]\n",
    "# labels = num_d[:,2].reshape(num_d.shape[0],1)\n",
    "\n",
    "at = num_d[:,0] #AT\n",
    "pm10 = num_d[:,2]#PM10\n",
    "pm2_5 = num_d[:,3]#\n",
    "no2 = num_d[:,11] #NO2\n",
    "no = num_d[:,12]#NO\n",
    "nox = num_d[:,13]#NOX\n",
    "so2 = num_d[:,14]#SO2\n",
    "co = num_d[:,16]#CO\n",
    "a = np.array(at)[np.newaxis].T\n",
    "b = np.array(no2)[np.newaxis]\n",
    "c = np.array(no)[np.newaxis]\n",
    "d = np.array(nox)[np.newaxis]\n",
    "e = np.array(so2)[np.newaxis]\n",
    "f = np.array(co)[np.newaxis]\n",
    "g = np.array(pm10)[np.newaxis].T#PM10\n",
    "h = np.array(pm2_5)[np.newaxis].T#PM2.5\n",
    "\n",
    "\n",
    "\n",
    "t=a\n",
    "\n",
    "t = np.insert(t,1,b,axis=1)\n",
    "t = np.insert(t,2,e,axis=1)\n",
    "t = np.insert(t,3,f,axis=1)\n",
    "\n",
    "# t = np.insert(t,4,e,axis=1)\n",
    "# t = np.insert(t,5,f,axis=1)\n",
    "\n",
    "# t = np.zeros((6,6+1))\n",
    "# t[:,:-5]=a\n",
    "feature = t\n",
    "label = g\n",
    "\n",
    "# print(label)"
   ]
  },
  {
   "cell_type": "code",
   "execution_count": 71,
   "metadata": {},
   "outputs": [],
   "source": [
    "d1_min , d1_max = feature[:,0].min(),feature[:,0].max()\n",
    "d2_min , d2_max = feature[:,1].min(),feature[:,1].max()\n",
    "d3_min , d3_max = feature[:,2].min(),feature[:,2].max()\n",
    "d4_min , d4_max = feature[:,3].min(),feature[:,3].max()\n",
    "# d5_min , d5_max = feature[:,4].min(),feature[:,4].max()\n",
    "# d6_min , d6_max = feature[:,5].min(),feature[:,5].max()"
   ]
  },
  {
   "cell_type": "code",
   "execution_count": 72,
   "metadata": {},
   "outputs": [],
   "source": [
    "dim1 = [d1_min ,d1_max]\n",
    "dim2 = [d2_min ,d2_max]\n",
    "dim3 = [d3_min ,d3_max]\n",
    "dim4 = [d4_min ,d4_max]\n",
    "# dim5 = [d5_min ,d5_max]\n",
    "# dim6 = [d6_min ,d6_max]\n",
    "\n",
    "num_output = label.shape[1]\n",
    "\n",
    "snn = nl.net.newp([dim1,dim2,dim3,dim4],num_output)"
   ]
  },
  {
   "cell_type": "code",
   "execution_count": 73,
   "metadata": {},
   "outputs": [
    {
     "name": "stdout",
     "output_type": "stream",
     "text": [
      "Epoch: 20; Error: 679574014.5;\n",
      "The maximum number of train epochs is reached\n"
     ]
    }
   ],
   "source": [
    "error_progress = snn.train(feature,label,epochs=20,show=20,lr=0.03)\n"
   ]
  },
  {
   "cell_type": "code",
   "execution_count": 74,
   "metadata": {},
   "outputs": [
    {
     "data": {
      "image/png": "[encoded data removed]",
      "text/plain": [
       "<Figure size 432x288 with 1 Axes>"
      ]
     },
     "metadata": {},
     "output_type": "display_data"
    }
   ],
   "source": [
    "plt.plot(error_progress)\n",
    "plt.xlabel('Number of Epochs')\n",
    "plt.ylabel('Training Error')\n",
    "plt.title('Training Error Progress')\n",
    "plt.grid()"
   ]
  },
  {
   "cell_type": "code",
   "execution_count": 66,
   "metadata": {},
   "outputs": [],
   "source": [
    "out = snn.sim(feature)"
   ]
  },
  {
   "cell_type": "code",
   "execution_count": 67,
   "metadata": {},
   "outputs": [
    {
     "data": {
      "text/plain": [
       "array([[1.],\n",
       "       [1.],\n",
       "       [1.],\n",
       "       ...,\n",
       "       [1.],\n",
       "       [1.],\n",
       "       [1.]])"
      ]
     },
     "execution_count": 67,
     "metadata": {},
     "output_type": "execute_result"
    }
   ],
   "source": [
    "out"
   ]
  },
  {
   "cell_type": "code",
   "execution_count": null,
   "metadata": {},
   "outputs": [],
   "source": []
  }
 ],
 "metadata": {
  "kernelspec": {
   "display_name": "Python 3",
   "language": "python",
   "name": "python3"
  },
  "language_info": {
   "codemirror_mode": {
    "name": "ipython",
    "version": 3
   },
   "file_extension": ".py",
   "mimetype": "text/x-python",
   "name": "python",
   "nbconvert_exporter": "python",
   "pygments_lexer": "ipython3",
   "version": "3.6.5"
  }
 },
 "nbformat": 4,
 "nbformat_minor": 2
}
